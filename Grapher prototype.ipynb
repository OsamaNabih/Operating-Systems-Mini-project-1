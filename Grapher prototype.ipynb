{
 "cells": [
  {
   "cell_type": "code",
   "execution_count": 1,
   "metadata": {},
   "outputs": [],
   "source": [
    "import matplotlib\n",
    "matplotlib.use(\"TkAgg\")"
   ]
  },
  {
   "cell_type": "code",
   "execution_count": 2,
   "metadata": {},
   "outputs": [],
   "source": [
    "import numpy as np\n",
    "from matplotlib.backends.backend_tkagg import FigureCanvasTkAgg, NavigationToolbar2Tk\n",
    "from matplotlib.figure import Figure\n",
    "import matplotlib.pyplot as plt\n",
    "from tkinter import *"
   ]
  },
  {
   "cell_type": "code",
   "execution_count": 28,
   "metadata": {},
   "outputs": [],
   "source": [
    "time = np.arange(0, 500)\n",
    "time = time * 0.1"
   ]
  },
  {
   "cell_type": "code",
   "execution_count": 29,
   "metadata": {},
   "outputs": [],
   "source": [
    "process = np.ones(100)\n",
    "temp = np.ones(100)\n",
    "temp = temp * 2\n",
    "process = np.append(process, temp)\n",
    "temp = temp * 3 / 2\n",
    "process = np.append(process, temp)\n",
    "temp = temp * 4 / 3\n",
    "process = np.append(process, temp)\n",
    "temp = temp / 4\n",
    "process = np.append(process, temp)"
   ]
  },
  {
   "cell_type": "code",
   "execution_count": 30,
   "metadata": {},
   "outputs": [],
   "source": [
    "plt.rcParams['figure.figsize'] = (15,8)"
   ]
  },
  {
   "cell_type": "code",
   "execution_count": 31,
   "metadata": {},
   "outputs": [
    {
     "data": {
      "text/plain": [
       "[<matplotlib.lines.Line2D at 0x1f69071d0f0>]"
      ]
     },
     "execution_count": 31,
     "metadata": {},
     "output_type": "execute_result"
    },
    {
     "data": {
      "image/png": "[encoded data removed]",
      "text/plain": [
       "<Figure size 1080x576 with 1 Axes>"
      ]
     },
     "metadata": {},
     "output_type": "display_data"
    }
   ],
   "source": [
    "plt.plot(time, process)"
   ]
  },
  {
   "cell_type": "code",
   "execution_count": 33,
   "metadata": {},
   "outputs": [],
   "source": [
    "time = np.array([0, 10, 10, 20, 20, 30, 30, 40, 40, 50])\n",
    "process = np.array([1, 1, 2, 2, 3, 3, 4, 4, 1, 1])"
   ]
  },
  {
   "cell_type": "code",
   "execution_count": 34,
   "metadata": {},
   "outputs": [
    {
     "data": {
      "text/plain": [
       "[<matplotlib.lines.Line2D at 0x1f6907739b0>]"
      ]
     },
     "execution_count": 34,
     "metadata": {},
     "output_type": "execute_result"
    },
    {
     "data": {
      "image/png": "[encoded data removed]",
      "text/plain": [
       "<Figure size 1080x576 with 1 Axes>"
      ]
     },
     "metadata": {},
     "output_type": "display_data"
    }
   ],
   "source": [
    "plt.plot(time, process)"
   ]
  },
  {
   "cell_type": "code",
   "execution_count": null,
   "metadata": {},
   "outputs": [],
   "source": []
  },
  {
   "cell_type": "code",
   "execution_count": null,
   "metadata": {},
   "outputs": [],
   "source": []
  },
  {
   "cell_type": "code",
   "execution_count": null,
   "metadata": {},
   "outputs": [],
   "source": []
  },
  {
   "cell_type": "code",
   "execution_count": 3,
   "metadata": {},
   "outputs": [],
   "source": [
    "def readInput():\n",
    "    file_name = inputEntry.get()\n",
    "    nums = []\n",
    "    with open(file_name) as f:\n",
    "        for line in f:\n",
    "            arr = line.split()\n",
    "            nums.append(arr)\n",
    "    f.close()\n",
    "    process_num = int(nums[0][0])\n",
    "    mu1 = float(nums[1][0])\n",
    "    sigma1 = float(nums[1][0])\n",
    "    mu2 = float(nums[2][0])\n",
    "    sigma2 = float(nums[2][1])\n",
    "    my_lambda = float(nums[3][0])\n",
    "    arrivals = np.random.normal(loc=mu1, scale=sigma1, size=process_num)\n",
    "    bursts = np.random.normal(loc=mu2, scale=sigma2, size=process_num)\n",
    "    priorities = np.random.poisson(lam=my_lambda, size=process_num)\n",
    "    #mapped_priorities = np.arange(1, len(priorities) + 1)\n",
    "    #sorted_priorities = np.argsort(priorities)\n",
    "    #for i in range(process_num):\n",
    "        #priorities[sorted_priorities[i]] = mapped_priorities[i]\n",
    "    arrivals = np.round(arrivals, 2)\n",
    "    bursts = np.round(bursts, 2)\n",
    "    arrivals = np.abs(arrivals)\n",
    "    bursts = np.abs(bursts)\n",
    "    f = open(\"Output.txt\", \"w\")\n",
    "    f.write(str(process_num) + \"\\n\")\n",
    "    for i in range(process_num):\n",
    "        f.write(str(i+1) + \" \" + str(arrivals[i]) + \" \" + str(bursts[i]) + \" \" + str(priorities[i]) + \"\\n\")\n",
    "    f.close()"
   ]
  },
  {
   "cell_type": "code",
   "execution_count": 4,
   "metadata": {},
   "outputs": [],
   "source": [
    "def graph():\n",
    "    time = np.arange(0, 500)\n",
    "    time = time * 0.1\n",
    "    process = np.ones(100)\n",
    "    temp = np.ones(100)\n",
    "    temp = temp * 2\n",
    "    process = np.append(process, temp)\n",
    "    temp = temp * 3 / 2\n",
    "    process = np.append(process, temp)\n",
    "    temp = temp * 4 / 3\n",
    "    process = np.append(process, temp)\n",
    "    temp = temp / 4\n",
    "    process = np.append(process, temp)\n",
    "    f = Figure(figsize=(5, 5), dpi=100)\n",
    "    a = f.add_subplot(111)\n",
    "    a.plot(time, process)\n",
    "    canvas = FigureCanvasTkAgg(f, master=root)\n",
    "    canvas.draw()\n",
    "    canvas.get_tk_widget().grid(row=50, column=10)\n",
    "    plt.interactive(False)\n",
    "    #plt.show(block=True)\n",
    "    plt.plot(time, process)\n",
    "    #plt.show()"
   ]
  },
  {
   "cell_type": "code",
   "execution_count": 5,
   "metadata": {},
   "outputs": [],
   "source": [
    "# on change dropdown value\n",
    "def change_dropdown(*args):\n",
    "    popupMenu.state=\"disabled\"\n",
    "    choice = tkvar.get()\n",
    "    scheduler(choices[choice])"
   ]
  },
  {
   "cell_type": "code",
   "execution_count": 6,
   "metadata": {},
   "outputs": [],
   "source": [
    "import time\n",
    "\n",
    "def scheduler(schedule):\n",
    "    if schedule == 0:\n",
    "        print(\"FCFS\")\n",
    "    elif schedule == 1:\n",
    "        print(\"HPFS\")\n",
    "    elif schedule == 2:\n",
    "        print(\"RR\")\n",
    "    elif schedule == 3:\n",
    "        print(\"STR\")\n",
    "    else:\n",
    "        print(\"Invalid scheduling algorithm\")\n",
    "    #time.sleep(5)\n",
    "    #popupMenu.state=\"normal\""
   ]
  },
  {
   "cell_type": "code",
   "execution_count": 7,
   "metadata": {},
   "outputs": [
    {
     "data": {
      "text/plain": [
       "''"
      ]
     },
     "execution_count": 7,
     "metadata": {},
     "output_type": "execute_result"
    },
    {
     "data": {
      "text/plain": [
       "'\\ntopFrame = Frame(root)\\ntopFrame.pack()\\nbottomFrame = Frame(root)\\nbottomFrame.pack(side=BOTTOM)\\n'"
      ]
     },
     "execution_count": 7,
     "metadata": {},
     "output_type": "execute_result"
    }
   ],
   "source": [
    "import numpy as np\n",
    "import matplotlib\n",
    "matplotlib.use(\"TkAgg\")\n",
    "import numpy as np\n",
    "from matplotlib.backends.backend_tkagg import FigureCanvasTkAgg\n",
    "from matplotlib.figure import Figure\n",
    "import matplotlib.pyplot as plt\n",
    "from tkinter import *\n",
    "\n",
    "\n",
    "\n",
    "root = Tk()\n",
    "root.geometry(\"1000x800\")\n",
    "theLabel = Label(root, text=\"Input File Name:\", bg='yellow', fg='pink')\n",
    "#theLabel.pack(fill=X)\n",
    "\n",
    "\n",
    "'''\n",
    "topFrame = Frame(root)\n",
    "topFrame.pack()\n",
    "bottomFrame = Frame(root)\n",
    "bottomFrame.pack(side=BOTTOM)\n",
    "'''\n",
    "graph()\n",
    "inputFile = Button(text=\"Submit file name\", fg='red', command= readInput)\n",
    "schedule = Button(text=\"Submit scheduling method\", fg='green')\n",
    "inputEntry = Entry(root)\n",
    "theLabel.grid(row=4, column=2)\n",
    "inputEntry.grid(row=4, column=3)\n",
    "inputFile.grid(row=5, column=2, columnspan=2)\n",
    "#inputFile.pack(side=LEFT)\n",
    "#schedule.pack(side=RIGHT)\n",
    "\n",
    "\n",
    "\n",
    "#root.mainloop()"
   ]
  },
  {
   "cell_type": "code",
   "execution_count": null,
   "metadata": {},
   "outputs": [],
   "source": [
    "tkvar = StringVar(root)\n",
    "choices = {'First Come First Serve': 0, 'High Priority First Serve': 1, 'Round Robin': 2, 'Shortest Time Remaining First': 3}\n",
    "\n",
    " \n",
    "popupMenu = OptionMenu(root, tkvar, *choices)\n",
    "Label(root, text=\"Choose a dish\").grid(row = 9, column = 10)\n",
    "popupMenu.grid(row = 10, column =10)\n",
    "tkvar.set('First Come First Serve') # set the default option\n",
    "popupMenu.state=\"readonly\"\n",
    "# link function to change dropdown\n",
    "tkvar.trace('w', change_dropdown)"
   ]
  },
  {
   "cell_type": "code",
   "execution_count": null,
   "metadata": {},
   "outputs": [
    {
     "name": "stdout",
     "output_type": "stream",
     "text": [
      "RR\n",
      "RR\n",
      "STR\n"
     ]
    }
   ],
   "source": [
    "root.mainloop()"
   ]
  },
  {
   "cell_type": "code",
   "execution_count": null,
   "metadata": {},
   "outputs": [],
   "source": []
  }
 ],
 "metadata": {
  "kernelspec": {
   "display_name": "Python 3",
   "language": "python",
   "name": "python3"
  },
  "language_info": {
   "codemirror_mode": {
    "name": "ipython",
    "version": 3
   },
   "file_extension": ".py",
   "mimetype": "text/x-python",
   "name": "python",
   "nbconvert_exporter": "python",
   "pygments_lexer": "ipython3",
   "version": "3.6.5"
  }
 },
 "nbformat": 4,
 "nbformat_minor": 2
}
