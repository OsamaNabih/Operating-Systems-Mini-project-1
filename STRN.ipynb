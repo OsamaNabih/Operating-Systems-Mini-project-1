{
 "cells": [
  {
   "cell_type": "code",
   "execution_count": 209,
   "metadata": {},
   "outputs": [],
   "source": [
    "import matplotlib as plt\n",
    "import numpy as np \n",
    "import queue as Q \n",
    "import heapq as hq \n",
    "from decimal import Decimal"
   ]
  },
  {
   "cell_type": "code",
   "execution_count": 210,
   "metadata": {},
   "outputs": [],
   "source": [
    "precision = 2"
   ]
  },
  {
   "cell_type": "code",
   "execution_count": 211,
   "metadata": {},
   "outputs": [],
   "source": [
    "class Queue:\n",
    "    def __init__(self):\n",
    "        self.items = []\n",
    "\n",
    "    def isEmpty(self):\n",
    "        return len(self.items) == 0\n",
    "\n",
    "    def enqueue(self, item):\n",
    "        self.items.append(item)\n",
    "\n",
    "    def dequeue(self):\n",
    "        if(self.isEmpty()):\n",
    "            print(\"unable to dequeue\")\n",
    "            return None\n",
    "        node = self.items[0]\n",
    "        del self.items[0]\n",
    "        return node\n",
    "    def prioritySort(self):\n",
    "        self.items = sorted(self.items, key=lambda process:(-process.priority, process.processNumber))\n",
    "    def size(self):\n",
    "        return len(self.items)\n",
    "    \n",
    "    def front(self):\n",
    "        if(self.isEmpty()):\n",
    "            return None\n",
    "        return self.items[0]\n",
    "    def printQueue(self):\n",
    "        for item in self.items:\n",
    "            item.printProcess()\n",
    "    def calculateStats(self,outputFile):\n",
    "        averageTAT = 0 \n",
    "        weightedAverageTAT = 0\n",
    "        f = open(outputFile,'w')\n",
    "        for item in self.items:\n",
    "            item.writeStats(f)\n",
    "            averageTAT += item.TAT()\n",
    "            weightedAverageTAT += item.weightedTAT()\n",
    "        averageTAT /= self.size()\n",
    "        weightedAverageTAT /= self.size()\n",
    "        f.write(\"\\naverage TAT = \" + str(np.round(averageTAT, precision)) + \"\\nweightedAverageTAT = \" \\\n",
    "                + str(np.round(weightedAverageTAT, precision)))\n",
    "        f.close()\n",
    "        "
   ]
  },
  {
   "cell_type": "code",
   "execution_count": 212,
   "metadata": {},
   "outputs": [],
   "source": [
    "class MyHeap(object):\n",
    "    def __init__(self,initial=None, key=lambda x:x):\n",
    "        self.key = key\n",
    "        if initial:\n",
    "            self._data = [(key(item), item) for item in initial]\n",
    "            hq.heapify(self._data)\n",
    "        else:\n",
    "            self._data = []\n",
    "\n",
    "    def push(self, item):\n",
    "        hq.heappush(self._data, (self.key(item), item))\n",
    "        \n",
    "    def pop(self):\n",
    "        return hq.heappop(self._data)[1]\n",
    "    def top(self):\n",
    "        return self._data[0][1]\n",
    "    def heapPushPop(self,item):\n",
    "        hq.heappush(self._data,(self.key(item), item))\n",
    "        return hq.heappop(self._data)[1]\n",
    "    def size(self):\n",
    "        return len(self._data)"
   ]
  },
  {
   "cell_type": "code",
   "execution_count": 213,
   "metadata": {},
   "outputs": [],
   "source": [
    "def getTimeLeft(process):\n",
    "    return np.round(process.timeLeft, precision)\n",
    "\n",
    "class Process:\n",
    "    def __init__(self, processNumber, arrivalTime, burstTime, priority):\n",
    "        self.processNumber = processNumber\n",
    "        self.arrivalTime = arrivalTime\n",
    "        self.burstTime = burstTime\n",
    "        self.priority = priority\n",
    "        self.timeLeft = burstTime\n",
    "        self.transitions = []\n",
    "\n",
    "    def __lt__(self, other):\n",
    "        if self.priority == other.priority:\n",
    "            return self.processNumber < other.processNumber\n",
    "        return self.priority > other.priority\n",
    "\n",
    "    def getTransitions(self):\n",
    "        for i in range(len(self.transitions)):\n",
    "            print(\"Transition # \" + str(i) + \" from \" + str(self.transitions[i][0]) + \" to \" + str(\n",
    "                self.transitions[i][1]) + \"\\n\")\n",
    "        return\n",
    "\n",
    "    def setTransitions(self, start, end):\n",
    "        self.transitions.append((start, end))\n",
    "        return\n",
    "\n",
    "    def setTimeLeft(self, quantum):\n",
    "        self.timeLeft -= quantum\n",
    "        np.round(self.timeLeft, precision)\n",
    "        return\n",
    "\n",
    "    def getTimeLeft(self):\n",
    "        return np.round(self.timeLeft, precision)\n",
    "\n",
    "    def endTime(self, endTime):\n",
    "        self.endTime = endTime\n",
    "        return\n",
    "\n",
    "    def startTime(self, startTime):\n",
    "        self.startTime = startTime\n",
    "        return\n",
    "    \n",
    "    def waitTime(self):\n",
    "        if(self.transitions == 0):\n",
    "            return np.round((self.startTime - self.arrivalTime), precision)\n",
    "        else:\n",
    "            self.startTime = self.transitions[0][0] ## first element in the first tuple is the startTime\n",
    "            return np.round((self.startTime - self.arrivalTime), percision)\n",
    "    def TAT(self):\n",
    "        if(self.transitions ==0):\n",
    "            return np.round((self.endTime - self.arrivalTime), precision)\n",
    "        else:\n",
    "            self.endTime = self.transitions[-1][1] ## second element in the last tuple is the endTime\n",
    "            return np.round((self.endTime - self.arrivalTime),percision)\n",
    "   \n",
    "    def weightedTAT(self):\n",
    "        return np.round((self.endTime - self.arrivalTime) / self.burstTime, precision)\n",
    "\n",
    "    def printProcess(self):\n",
    "        print(\"PNumber: \" + str(self.processNumber) + \", Arrival: \" + str(self.arrivalTime) + \", Burst: \" \\\n",
    "              + str(self.burstTime) + \", Priority: \" + str(self.priority))\n",
    "\n",
    "    def writeStats(self, f):\n",
    "        f.write(\"Process #\" + str(self.processNumber) + \" wait time = \" + str(self.waitTime()) + \\\n",
    "                \" TAT = \" + str(self.TAT()) + \" weighted TAT = \" + str(self.weightedTAT()) + \" arrived at: \" + \\\n",
    "                str(self.arrivalTime) + \" started at: \" + str(np.round(self.startTime, precision)) + \" ended at: \" \\\n",
    "                + str(np.round(self.endTime, precision)) + '\\n')\n"
   ]
  },
  {
   "cell_type": "code",
   "execution_count": 214,
   "metadata": {},
   "outputs": [],
   "source": [
    "## Take input from the file in an array of process\n",
    "inputFile = open(\"testRR.txt\",'r')\n",
    "processArray = []\n",
    "\n",
    "for line in inputFile:\n",
    "    line = line.split(\" \")\n",
    "    if len(line) == 1 : \n",
    "        continue\n",
    "    temp = Process(int(line[0]),float(line[1]),float(line[2]),int(line[3]))\n",
    "    processArray.append(temp)\n",
    "\n",
    "inputFile.close()"
   ]
  },
  {
   "cell_type": "code",
   "execution_count": 215,
   "metadata": {},
   "outputs": [
    {
     "name": "stdout",
     "output_type": "stream",
     "text": [
      "1 1.0 6.0 5\n",
      "2 1.0 1.0 3\n",
      "3 3.0 7.0 3\n",
      "4 4.0 5.0 1\n",
      "5 5.0 2.0 3\n"
     ]
    }
   ],
   "source": [
    "## sort the process according their arrival time\n",
    "processArray = sorted(processArray, key=lambda process:float(process.arrivalTime))\n",
    "\n",
    "for i in processArray:\n",
    "    print(str(i.processNumber) + \" \" + str(i.arrivalTime) + \" \" + str(i.burstTime) + \" \" + str(i.priority) )\n",
    "    \n"
   ]
  },
  {
   "cell_type": "code",
   "execution_count": 216,
   "metadata": {},
   "outputs": [
    {
     "data": {
      "text/plain": [
       "'\\nmyHeap = MyHeap()\\nfor i in processArray:\\n    myHeap.push((i.timeLeft, i))\\n    \\ncurrentProcess = myHeap.pop()\\nprint(currentProcess.printProcess())        \\n'"
      ]
     },
     "execution_count": 216,
     "metadata": {},
     "output_type": "execute_result"
    }
   ],
   "source": [
    "'''\n",
    "myHeap = MyHeap()\n",
    "for i in processArray:\n",
    "    myHeap.push((i.timeLeft, i))\n",
    "    \n",
    "currentProcess = myHeap.pop()\n",
    "print(currentProcess.printProcess())        \n",
    "'''"
   ]
  },
  {
   "cell_type": "code",
   "execution_count": 217,
   "metadata": {},
   "outputs": [
    {
     "name": "stdout",
     "output_type": "stream",
     "text": [
      "0.0\n",
      "putting a new process\n",
      "PNumber: 2, Arrival: 1.0, Burst: 1.0, Priority: 3\n",
      "None\n",
      "1.0\n",
      "removing ended process and waiting for arrival of new process / switching process\n",
      "putting a new process\n",
      "PNumber: 1, Arrival: 1.0, Burst: 6.0, Priority: 5\n",
      "None\n",
      "2.0\n",
      "3.0\n",
      "4.0\n",
      "5.0\n",
      "6.0\n",
      "7.0\n",
      "removing ended process and waiting for arrival of new process / switching process\n",
      "putting a new process\n",
      "PNumber: 5, Arrival: 5.0, Burst: 2.0, Priority: 3\n",
      "None\n",
      "8.0\n",
      "9.0\n",
      "removing ended process and waiting for arrival of new process / switching process\n",
      "putting a new process\n",
      "PNumber: 4, Arrival: 4.0, Burst: 5.0, Priority: 1\n",
      "None\n",
      "10.0\n",
      "11.0\n",
      "12.0\n",
      "13.0\n",
      "14.0\n",
      "removing ended process and waiting for arrival of new process / switching process\n",
      "putting a new process\n",
      "PNumber: 3, Arrival: 3.0, Burst: 7.0, Priority: 3\n",
      "None\n",
      "15.0\n",
      "16.0\n",
      "17.0\n",
      "18.0\n",
      "19.0\n",
      "20.0\n",
      "21.0\n",
      "removing ended process and waiting for arrival of new process / switching process\n",
      "22.0\n"
     ]
    }
   ],
   "source": [
    "myHeap = MyHeap(key = getTimeLeft)\n",
    "outqueue = Queue()\n",
    "exit = False\n",
    "time = 0.0 \n",
    "size = len(processArray)\n",
    "currentProcess = None\n",
    "cpuCycle = 1\n",
    "switchingTime = 0.0\n",
    "while(True):\n",
    "    \n",
    "    if(exit or (len(processArray) == 0 and outqueue.size() == size)): ## will be changed \n",
    "        break\n",
    "        \n",
    "    while(len(processArray) > 0 and time >= float(processArray[0].arrivalTime)):\n",
    "        myHeap.push(processArray[0])\n",
    "        del processArray[0]\n",
    "    if(currentProcess != None):\n",
    "        if (currentProcess.getTimeLeft() <= 0):\n",
    "            print(\"removing ended process and waiting for arrival of new process / switching process\") \n",
    "            end = time + currentProcess.getTimeLeft() \n",
    "            currentProcess.setTransitions(start,end)\n",
    "            outqueue.enqueue(currentProcess)\n",
    "            currentProcess = None \n",
    "            \n",
    "        if(currentProcess != None):\n",
    "            currentProcess.setTimeLeft(cpuCycle)  \n",
    "            \n",
    "    if(myHeap.size() > 0):\n",
    "        if(currentProcess != None):\n",
    "            temp = myHeap.top()\n",
    "            if(temp.getTimeLeft() < currentProcess.getTimeLeft()):\n",
    "                end = time\n",
    "                currentProcess.setTransitions(start,end)\n",
    "                time += switchingTime\n",
    "                currentProcess = myHeap.heapPushPop(currentProcess)\n",
    "                currentProcess.setTimeLeft(cpuCycle)\n",
    "                start = time\n",
    "        else:\n",
    "            \n",
    "            print(\"putting a new process\")\n",
    "            currentProcess = myHeap.pop()\n",
    "            print(currentProcess.printProcess())\n",
    "            time += switchingTime\n",
    "            start = time\n",
    "            currentProcess.setTimeLeft(cpuCycle)\n",
    "\n",
    "        \n",
    "     \n",
    "    print(time)\n",
    "    time += cpuCycle\n",
    "    time = np.round(time,5)"
   ]
  },
  {
   "cell_type": "code",
   "execution_count": 218,
   "metadata": {},
   "outputs": [
    {
     "name": "stdout",
     "output_type": "stream",
     "text": [
      "Process #  2\n",
      "\n",
      "Transition # 0 from 1.0 to 2.0\n",
      "\n",
      "Process #  1\n",
      "\n",
      "Transition # 0 from 2.0 to 8.0\n",
      "\n",
      "Process #  5\n",
      "\n",
      "Transition # 0 from 8.0 to 10.0\n",
      "\n",
      "Process #  4\n",
      "\n",
      "Transition # 0 from 10.0 to 15.0\n",
      "\n",
      "Process #  3\n",
      "\n",
      "Transition # 0 from 15.0 to 22.0\n",
      "\n"
     ]
    }
   ],
   "source": [
    "for i in range(outqueue.size()):\n",
    "    rightnow = outqueue.dequeue()\n",
    "    print(\"Process #  \" + str(rightnow.processNumber) + \"\\n\" )\n",
    "    rightnow.getTransitions()"
   ]
  },
  {
   "cell_type": "code",
   "execution_count": 219,
   "metadata": {},
   "outputs": [
    {
     "name": "stdout",
     "output_type": "stream",
     "text": [
      "PNumber: 2, Arrival: 2.0, Burst: 1, Priority: 3\n"
     ]
    }
   ],
   "source": [
    "heapheap = MyHeap(key = getTimeLeft)\n",
    "process1 = Process(1,1.0,6,5)\n",
    "process2 = Process(2,2.0,1,3)\n",
    "heapheap.push(process1)\n",
    "heapheap.push(process2)\n",
    "heapheap.top().printProcess()"
   ]
  },
  {
   "cell_type": "code",
   "execution_count": null,
   "metadata": {},
   "outputs": [],
   "source": []
  }
 ],
 "metadata": {
  "kernelspec": {
   "display_name": "Python 3",
   "language": "python",
   "name": "python3"
  },
  "language_info": {
   "codemirror_mode": {
    "name": "ipython",
    "version": 3
   },
   "file_extension": ".py",
   "mimetype": "text/x-python",
   "name": "python",
   "nbconvert_exporter": "python",
   "pygments_lexer": "ipython3",
   "version": "3.6.6"
  }
 },
 "nbformat": 4,
 "nbformat_minor": 2
}
