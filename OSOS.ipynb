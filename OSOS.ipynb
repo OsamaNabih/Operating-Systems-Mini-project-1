{
 "cells": [
  {
   "cell_type": "code",
   "execution_count": 21,
   "metadata": {},
   "outputs": [],
   "source": [
    "import matplotlib as plt\n",
    "import numpy as np "
   ]
  },
  {
   "cell_type": "code",
   "execution_count": 22,
   "metadata": {},
   "outputs": [],
   "source": [
    "class Queue:\n",
    "    def __init__(self):\n",
    "        self.items = []\n",
    "\n",
    "    def isEmpty(self):\n",
    "        return len(self.items) == 0\n",
    "\n",
    "    def enqueue(self, item):\n",
    "        self.items.append(item)\n",
    "\n",
    "    def dequeue(self):\n",
    "        if(self.isEmpty()):\n",
    "            print(\"unable to dequeue\")\n",
    "            return None\n",
    "        node = self.items[0]\n",
    "        del self.items[0]\n",
    "        return node\n",
    "\n",
    "    def size(self):\n",
    "        return len(self.items)\n",
    "    \n",
    "    def front(self):\n",
    "        if(self.isEmpty()):\n",
    "            return None\n",
    "        return self.items[0]\n",
    "    def printQueue(self):\n",
    "        for item in self.items:\n",
    "            item.printProcess()"
   ]
  },
  {
   "cell_type": "code",
   "execution_count": 23,
   "metadata": {},
   "outputs": [],
   "source": [
    "class process:\n",
    "    def __init__(self,processNumber,arrivalTime,burstTime,priority):\n",
    "        self.processNumber = processNumber\n",
    "        self.arrivalTime = arrivalTime\n",
    "        self.burstTime = burstTime\n",
    "        self.priority = priority\n",
    "        \n",
    "    def endTime (self,endTime):\n",
    "        self.endTime = endTime\n",
    "        return\n",
    "    def startTime(self,startTime):\n",
    "        self.startTime = startTime\n",
    "        return\n",
    "    def printProcess(self):\n",
    "        print(\"PNumber: \" + str(self.processNumber) + \", Arrival: \" + str(self.arrivalTime) + \", Burst: \" \\\n",
    "             + str(self.burstTime) + \", Priority: \" + str(self.priority))"
   ]
  },
  {
   "cell_type": "code",
   "execution_count": 24,
   "metadata": {},
   "outputs": [],
   "source": [
    "## Take input from the file in an array of process\n",
    "inputFile = open(\"Output.txt\",'r')\n",
    "processArray = []\n",
    "\n",
    "for line in inputFile:\n",
    "    line = line.split(\" \")\n",
    "    if len(line) == 1 : \n",
    "        continue\n",
    "    temp = process(line[0],float(line[1]),float(line[2]),line[3])\n",
    "    processArray.append(temp)\n",
    "\n",
    "inputFile.close()"
   ]
  },
  {
   "cell_type": "code",
   "execution_count": 25,
   "metadata": {
    "scrolled": true
   },
   "outputs": [
    {
     "name": "stdout",
     "output_type": "stream",
     "text": [
      "1 0.78 8.13 5\n",
      "\n",
      "7 1.42 8.7 9\n",
      "\n",
      "5 4.16 1.8 2\n",
      "\n",
      "8 8.74 7.49 10\n",
      "\n",
      "9 10.23 13.85 8\n",
      "\n",
      "10 11.53 20.74 4\n",
      "\n",
      "6 15.94 17.33 6\n",
      "\n",
      "2 20.56 12.56 7\n",
      "\n",
      "4 21.9 11.91 3\n",
      "\n",
      "3 34.21 15.31 1\n",
      "\n"
     ]
    }
   ],
   "source": [
    "## Sort the Process on the time of arrival\n",
    "#processArray.sort(key = lambda process:process.arrivalTime)\n",
    "processArray = sorted(processArray, key=lambda process:float(process.arrivalTime))\n",
    "\n",
    "\n",
    "for i in processArray:\n",
    "    print(str(i.processNumber) + \" \" + str(i.arrivalTime) + \" \" + str(i.burstTime) + \" \" + str(i.priority) )"
   ]
  },
  {
   "cell_type": "code",
   "execution_count": 26,
   "metadata": {},
   "outputs": [
    {
     "name": "stdout",
     "output_type": "stream",
     "text": [
      "wa7ed\n",
      "wa7ed\n",
      "wa7ed\n",
      "wa7ed\n",
      "wa7ed\n",
      "wa7ed\n",
      "wa7ed\n",
      "wa7ed\n",
      "wa7ed\n",
      "wa7ed\n"
     ]
    }
   ],
   "source": [
    "q = Queue()\n",
    "processQ = Queue()\n",
    "for process in processArray:\n",
    "    processQ.enqueue(process)\n",
    "time = -0.1\n",
    "endTime = 0.0\n",
    "busy = False\n",
    "exit = False\n",
    "terminated = Queue()\n",
    "switchTime = 0.0\n",
    "while(True):\n",
    "    time += 0.1\n",
    "    if not processQ.isEmpty():\n",
    "        if(processQ.front().arrivalTime <= time):\n",
    "            q.enqueue(processQ.dequeue())\n",
    "    if (exit or (terminated.size() == len(processArray))):\n",
    "        break\n",
    "    if not busy:\n",
    "        if q.isEmpty():\n",
    "            continue\n",
    "        elif q.front().arrivalTime <= time:\n",
    "            busy = True\n",
    "            curr_process = q.dequeue()\n",
    "            curr_process.startTime = time\n",
    "            curr_process.endTime = curr_process.startTime + curr_process.burstTime + switchTime\n",
    "            endTime = curr_process.endTime\n",
    "    else:\n",
    "        if time < endTime:\n",
    "            continue\n",
    "        else:\n",
    "            terminated.enqueue(curr_process)\n",
    "            busy = False"
   ]
  },
  {
   "cell_type": "code",
   "execution_count": 27,
   "metadata": {},
   "outputs": [
    {
     "name": "stdout",
     "output_type": "stream",
     "text": [
      "PNumber: 1, Arrival: 0.78, Burst: 8.13, Priority: 5\n",
      "\n",
      "PNumber: 7, Arrival: 1.42, Burst: 8.7, Priority: 9\n",
      "\n",
      "PNumber: 5, Arrival: 4.16, Burst: 1.8, Priority: 2\n",
      "\n",
      "PNumber: 8, Arrival: 8.74, Burst: 7.49, Priority: 10\n",
      "\n",
      "PNumber: 9, Arrival: 10.23, Burst: 13.85, Priority: 8\n",
      "\n",
      "PNumber: 10, Arrival: 11.53, Burst: 20.74, Priority: 4\n",
      "\n",
      "PNumber: 6, Arrival: 15.94, Burst: 17.33, Priority: 6\n",
      "\n",
      "PNumber: 2, Arrival: 20.56, Burst: 12.56, Priority: 7\n",
      "\n",
      "PNumber: 4, Arrival: 21.9, Burst: 11.91, Priority: 3\n",
      "\n",
      "PNumber: 3, Arrival: 34.21, Burst: 15.31, Priority: 1\n",
      "\n"
     ]
    }
   ],
   "source": [
    "terminated.printQueue()"
   ]
  },
  {
   "cell_type": "code",
   "execution_count": null,
   "metadata": {},
   "outputs": [],
   "source": []
  }
 ],
 "metadata": {
  "kernelspec": {
   "display_name": "Python 3",
   "language": "python",
   "name": "python3"
  },
  "language_info": {
   "codemirror_mode": {
    "name": "ipython",
    "version": 3
   },
   "file_extension": ".py",
   "mimetype": "text/x-python",
   "name": "python",
   "nbconvert_exporter": "python",
   "pygments_lexer": "ipython3",
   "version": "3.6.5"
  }
 },
 "nbformat": 4,
 "nbformat_minor": 2
}
