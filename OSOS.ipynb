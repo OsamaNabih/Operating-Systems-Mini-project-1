{
 "cells": [
  {
   "cell_type": "code",
   "execution_count": 5,
   "metadata": {},
   "outputs": [],
   "source": [
    "import matplotlib as plt\n",
    "import numpy as np "
   ]
  },
  {
   "cell_type": "code",
   "execution_count": 102,
   "metadata": {},
   "outputs": [],
   "source": [
    "precision = 2"
   ]
  },
  {
   "cell_type": "code",
   "execution_count": 103,
   "metadata": {},
   "outputs": [],
   "source": [
    "class Queue:\n",
    "    def __init__(self):\n",
    "        self.items = []\n",
    "\n",
    "    def isEmpty(self):\n",
    "        return len(self.items) == 0\n",
    "\n",
    "    def enqueue(self, item):\n",
    "        self.items.append(item)\n",
    "\n",
    "    def dequeue(self):\n",
    "        if(self.isEmpty()):\n",
    "            print(\"unable to dequeue\")\n",
    "            return None\n",
    "        node = self.items[0]\n",
    "        del self.items[0]\n",
    "        return node\n",
    "\n",
    "    def size(self):\n",
    "        return len(self.items)\n",
    "    \n",
    "    def front(self):\n",
    "        if(self.isEmpty()):\n",
    "            return None\n",
    "        return self.items[0]\n",
    "    def printQueue(self):\n",
    "        for item in self.items:\n",
    "            item.printProcess()\n",
    "    def calculateStats(self,outputFile):\n",
    "        averageTAT = 0 \n",
    "        weightedAverageTAT = 0\n",
    "        f = open(outputFile,'w')\n",
    "        for item in self.items:\n",
    "            item.writeStats(f)\n",
    "            averageTAT += item.TAT()\n",
    "            weightedAverageTAT += item.weightedTAT()\n",
    "        averageTAT /= self.size()\n",
    "        weightedAverageTAT /= self.size()\n",
    "        f.write(\"\\naverage TAT = \" + str(np.round(averageTAT,2)) + \"\\nweightedAverageTAT = \" \\\n",
    "                + str(np.round(weightedAverageTAT,2)))\n",
    "        f.close()\n",
    "        "
   ]
  },
  {
   "cell_type": "code",
   "execution_count": 104,
   "metadata": {},
   "outputs": [],
   "source": [
    "class Process:\n",
    "    def __init__(self,processNumber,arrivalTime,burstTime,priority):\n",
    "        self.processNumber = processNumber\n",
    "        self.arrivalTime = arrivalTime\n",
    "        self.burstTime = burstTime\n",
    "        self.priority = priority\n",
    "    \n",
    "    def __lt__(self, other):\n",
    "        if (self.priority == other.priority):\n",
    "            return self.processNumber < other.processNumber\n",
    "        return self.priority > other.priority\n",
    "    \n",
    "    def endTime (self,endTime):\n",
    "        self.endTime = endTime\n",
    "        return\n",
    "    def startTime(self,startTime):\n",
    "        self.startTime = startTime\n",
    "        return\n",
    "    def waitTime(self):\n",
    "        return np.round((self.startTime - self.arrivalTime), precision)\n",
    "    def TAT(self):\n",
    "        return np.round((self.endTime - self.arrivalTime), precision)\n",
    "    def weightedTAT(self):\n",
    "        return np.round((self.endTime - self.arrivalTime)/self.burstTime, precision)\n",
    "    def printProcess(self):\n",
    "        print(\"PNumber: \" + str(self.processNumber) + \", Arrival: \" + str(self.arrivalTime) + \", Burst: \" \\\n",
    "             + str(self.burstTime) + \", Priority: \" + str(self.priority))\n",
    "    def writeStats(self,f):\n",
    "        f.write(\"Process #\" + str(self.processNumber) + \" wait time = \" + str(self.waitTime()) + \\\n",
    "              \" TAT = \" + str(self.TAT()) + \" weighted TAT = \" +  str(self.weightedTAT()) + \" arrived at: \" + \\\n",
    "              str(self.arrivalTime) +\" started at: \" + str(np.round(self.startTime, precision)) + \" ended at: \" \\\n",
    "                + str(np.round(self.endTime, precision)) +'\\n')\n",
    "        "
   ]
  },
  {
   "cell_type": "code",
   "execution_count": 105,
   "metadata": {},
   "outputs": [],
   "source": [
    "## Take input from the file in an array of process\n",
    "inputFile = open(\"SecOutput.txt\",'r')\n",
    "processArray = []\n",
    "\n",
    "for line in inputFile:\n",
    "    line = line.split(\" \")\n",
    "    if len(line) == 1 : \n",
    "        continue\n",
    "    temp = Process(line[0],float(line[1]),float(line[2]),line[3])\n",
    "    processArray.append(temp)\n",
    "\n",
    "inputFile.close()"
   ]
  },
  {
   "cell_type": "code",
   "execution_count": 106,
   "metadata": {
    "scrolled": true
   },
   "outputs": [
    {
     "name": "stdout",
     "output_type": "stream",
     "text": [
      "1 0.0 10.0 1\n",
      "\n",
      "4 2.0 3.0 1\n",
      "\n",
      "7 3.0 2.0 1\n",
      "\n",
      "8 5.0 1.0 1\n",
      "\n",
      "2 10.0 6.0 1\n",
      "\n",
      "5 13.0 2.0 1\n",
      "\n",
      "9 16.0 1.0 1\n",
      "3 22.0 4.0 1\n",
      "\n",
      "6 24.0 2.0 1\n",
      "\n"
     ]
    }
   ],
   "source": [
    "## Sort the Process on the time of arrival\n",
    "#processArray.sort(key = lambda process:process.arrivalTime)\n",
    "processArray = sorted(processArray, key=lambda process:float(process.arrivalTime))\n",
    "\n",
    "\n",
    "for i in processArray:\n",
    "    print(str(i.processNumber) + \" \" + str(i.arrivalTime) + \" \" + str(i.burstTime) + \" \" + str(i.priority) )"
   ]
  },
  {
   "cell_type": "code",
   "execution_count": 107,
   "metadata": {},
   "outputs": [],
   "source": [
    "q = Queue()\n",
    "processQ = Queue()\n",
    "for process in processArray:\n",
    "    processQ.enqueue(process)\n",
    "time = -0.1\n",
    "endTime = 0.0\n",
    "busy = False\n",
    "exit = False\n",
    "terminated = Queue()\n",
    "switchTime = 0.0\n",
    "while(True):\n",
    "    time = np.round(time + 0.1, precision)\n",
    "    if (exit or (terminated.size() == len(processArray))):\n",
    "        break\n",
    "    if not processQ.isEmpty():\n",
    "        if(processQ.front().arrivalTime <= time):\n",
    "            q.enqueue(processQ.dequeue())\n",
    "    if busy:\n",
    "        if time < endTime:\n",
    "            continue\n",
    "        else:\n",
    "            terminated.enqueue(curr_process)\n",
    "            busy = False\n",
    "    if q.isEmpty():\n",
    "        continue\n",
    "    elif q.front().arrivalTime <= time:\n",
    "        busy = True\n",
    "        curr_process = q.dequeue()\n",
    "        curr_process.startTime = time\n",
    "        curr_process.endTime = curr_process.startTime + curr_process.burstTime + switchTime\n",
    "        endTime = curr_process.endTime"
   ]
  },
  {
   "cell_type": "code",
   "execution_count": 108,
   "metadata": {},
   "outputs": [],
   "source": [
    "f = \"statsOsama.txt\"\n",
    "terminated.calculateStats(f)"
   ]
  },
  {
   "cell_type": "code",
   "execution_count": null,
   "metadata": {},
   "outputs": [],
   "source": []
  },
  {
   "cell_type": "code",
   "execution_count": 109,
   "metadata": {},
   "outputs": [],
   "source": [
    "def printProcessList(processArray):\n",
    "    for i in processArray:\n",
    "        print(str(i.processNumber) + \" \" + str(i.arrivalTime) + \" \" + str(i.burstTime) + \" \" + str(i.priority) )"
   ]
  },
  {
   "cell_type": "code",
   "execution_count": 110,
   "metadata": {},
   "outputs": [],
   "source": [
    "from heapq import heappush, heappop, heapify"
   ]
  },
  {
   "cell_type": "code",
   "execution_count": 111,
   "metadata": {},
   "outputs": [],
   "source": [
    "## Take input from the file in an array of process\n",
    "inputFile = open(\"Output.txt\",'r')\n",
    "processArray = []\n",
    "\n",
    "for line in inputFile:\n",
    "    line = line.split(\" \")\n",
    "    if len(line) == 1 : \n",
    "        continue\n",
    "    temp = Process(int(line[0]),float(line[1]),float(line[2]),int(line[3]))\n",
    "    processArray.append(temp)\n",
    "\n",
    "inputFile.close()"
   ]
  },
  {
   "cell_type": "code",
   "execution_count": 112,
   "metadata": {
    "scrolled": true
   },
   "outputs": [
    {
     "name": "stdout",
     "output_type": "stream",
     "text": [
      "5 3.04 10.75 13\n",
      "8 5.46 1.66 14\n",
      "7 6.83 3.73 9\n",
      "10 7.43 9.72 12\n",
      "2 8.86 8.3 5\n",
      "6 9.76 8.13 13\n",
      "3 14.0 12.82 10\n",
      "4 20.98 20.46 11\n",
      "9 27.63 16.95 11\n",
      "1 33.33 23.27 13\n"
     ]
    }
   ],
   "source": [
    "## Sort the Process on the time of arrival\n",
    "#processArray.sort(key = lambda process:process.arrivalTime)\n",
    "processArray = sorted(processArray, key=lambda process:float(process.arrivalTime))\n",
    "\n",
    "printProcessList(processArray)"
   ]
  },
  {
   "cell_type": "code",
   "execution_count": 113,
   "metadata": {},
   "outputs": [
    {
     "name": "stdout",
     "output_type": "stream",
     "text": [
      "Inserted at: 3.1\n",
      "Inserted at: 5.5\n",
      "Inserted at: 6.9\n",
      "Inserted at: 7.5\n",
      "Inserted at: 8.9\n",
      "Inserted at: 9.8\n",
      "Finished at: 13.9\n",
      "Inserted at: 14.0\n",
      "Finished at: 15.6\n",
      "Inserted at: 21.0\n",
      "Finished at: 23.8\n",
      "Inserted at: 27.7\n",
      "Inserted at: 33.4\n",
      "Finished at: 33.6\n",
      "Finished at: 56.9\n",
      "Finished at: 77.4\n",
      "Finished at: 94.4\n",
      "Finished at: 107.3\n",
      "Finished at: 111.1\n",
      "Finished at: 119.4\n"
     ]
    }
   ],
   "source": [
    "process_num = len(processArray)\n",
    "processQ = Queue()\n",
    "for process in processArray:\n",
    "    processQ.enqueue(process)\n",
    "heap = []\n",
    "time = -0.1\n",
    "endTime = 0.0\n",
    "busy = False\n",
    "exit = False\n",
    "terminated = Queue()\n",
    "switchTime = 0.0\n",
    "while(True):\n",
    "    #printProcessList(heap)\n",
    "    #print(\"-----------------------------------------------\")\n",
    "    time = np.round(time + 0.1, precision)\n",
    "    if (exit or (terminated.size() == process_num)):\n",
    "        break\n",
    "    if not processQ.isEmpty():\n",
    "        if(processQ.front().arrivalTime <= time):\n",
    "            print(\"Inserted at: \" + str(time))\n",
    "            heappush(heap, processQ.dequeue())\n",
    "    if busy:\n",
    "        if time < endTime:\n",
    "            continue\n",
    "        else:\n",
    "            print(\"Finished at: \" + str(time))\n",
    "            terminated.enqueue(curr_process)\n",
    "            busy = False\n",
    "    if len(heap) == 0:\n",
    "        continue\n",
    "    elif heap[0].arrivalTime <= time:\n",
    "        busy = True\n",
    "        curr_process = heappop(heap)\n",
    "        curr_process.startTime = time\n",
    "        curr_process.endTime = curr_process.startTime + curr_process.burstTime + switchTime\n",
    "        endTime = curr_process.endTime"
   ]
  },
  {
   "cell_type": "code",
   "execution_count": 114,
   "metadata": {},
   "outputs": [],
   "source": [
    "f = \"statsHPFSOsama.txt\"\n",
    "terminated.calculateStats(f)"
   ]
  },
  {
   "cell_type": "code",
   "execution_count": 68,
   "metadata": {},
   "outputs": [
    {
     "name": "stdout",
     "output_type": "stream",
     "text": [
      "PNumber: 8, Arrival: 5.46, Burst: 1.66, Priority: 14\n",
      "PNumber: 8, Arrival: 5.46, Burst: 1.66, Priority: 14\n",
      "PNumber: 1, Arrival: 33.33, Burst: 23.27, Priority: 13\n",
      "PNumber: 1, Arrival: 33.33, Burst: 23.27, Priority: 13\n",
      "PNumber: 5, Arrival: 3.04, Burst: 10.75, Priority: 13\n",
      "PNumber: 5, Arrival: 3.04, Burst: 10.75, Priority: 13\n",
      "PNumber: 6, Arrival: 9.76, Burst: 8.13, Priority: 13\n",
      "PNumber: 6, Arrival: 9.76, Burst: 8.13, Priority: 13\n",
      "PNumber: 10, Arrival: 7.43, Burst: 9.72, Priority: 12\n",
      "PNumber: 10, Arrival: 7.43, Burst: 9.72, Priority: 12\n"
     ]
    }
   ],
   "source": [
    "terminated.printQueue()"
   ]
  },
  {
   "cell_type": "code",
   "execution_count": null,
   "metadata": {},
   "outputs": [],
   "source": []
  }
 ],
 "metadata": {
  "kernelspec": {
   "display_name": "Python 3",
   "language": "python",
   "name": "python3"
  },
  "language_info": {
   "codemirror_mode": {
    "name": "ipython",
    "version": 3
   },
   "file_extension": ".py",
   "mimetype": "text/x-python",
   "name": "python",
   "nbconvert_exporter": "python",
   "pygments_lexer": "ipython3",
   "version": "3.6.5"
  }
 },
 "nbformat": 4,
 "nbformat_minor": 2
}
