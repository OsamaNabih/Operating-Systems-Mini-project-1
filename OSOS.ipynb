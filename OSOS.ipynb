{
 "cells": [
  {
   "cell_type": "code",
   "execution_count": 1,
   "metadata": {},
   "outputs": [],
   "source": [
    "import matplotlib as plt\n",
    "import numpy as np "
   ]
  },
  {
   "cell_type": "code",
   "execution_count": 2,
   "metadata": {},
   "outputs": [],
   "source": [
    "precision = 2"
   ]
  },
  {
   "cell_type": "code",
   "execution_count": 3,
   "metadata": {},
   "outputs": [],
   "source": [
    "class Queue:\n",
    "    def __init__(self):\n",
    "        self.items = []\n",
    "\n",
    "    def isEmpty(self):\n",
    "        return len(self.items) == 0\n",
    "\n",
    "    def enqueue(self, item):\n",
    "        self.items.append(item)\n",
    "\n",
    "    def dequeue(self):\n",
    "        if(self.isEmpty()):\n",
    "            print(\"unable to dequeue\")\n",
    "            return None\n",
    "        node = self.items[0]\n",
    "        del self.items[0]\n",
    "        return node\n",
    "\n",
    "    def size(self):\n",
    "        return len(self.items)\n",
    "    \n",
    "    def front(self):\n",
    "        if(self.isEmpty()):\n",
    "            return None\n",
    "        return self.items[0]\n",
    "    def printQueue(self):\n",
    "        for item in self.items:\n",
    "            item.printProcess()\n",
    "    def calculateStats(self,outputFile):\n",
    "        averageTAT = 0 \n",
    "        weightedAverageTAT = 0\n",
    "        f = open(outputFile,'w')\n",
    "        for item in self.items:\n",
    "            item.writeStats(f)\n",
    "            averageTAT += item.TAT()\n",
    "            weightedAverageTAT += item.weightedTAT()\n",
    "        averageTAT /= self.size()\n",
    "        weightedAverageTAT /= self.size()\n",
    "        f.write(\"\\naverage TAT = \" + str(np.round(averageTAT,2)) + \"\\nweightedAverageTAT = \" \\\n",
    "                + str(np.round(weightedAverageTAT,2)))\n",
    "        f.close()\n",
    "        "
   ]
  },
  {
   "cell_type": "code",
   "execution_count": 4,
   "metadata": {},
   "outputs": [],
   "source": [
    "class Process:\n",
    "    def __init__(self,processNumber,arrivalTime,burstTime,priority):\n",
    "        self.processNumber = processNumber\n",
    "        self.arrivalTime = arrivalTime\n",
    "        self.burstTime = burstTime\n",
    "        self.priority = priority\n",
    "    \n",
    "    def __lt__(self, other):\n",
    "        if (self.priority == other.priority):\n",
    "            return self.processNumber < other.processNumber\n",
    "        return self.priority > other.priority\n",
    "    \n",
    "    def endTime (self,endTime):\n",
    "        self.endTime = endTime\n",
    "        return\n",
    "    def startTime(self,startTime):\n",
    "        self.startTime = startTime\n",
    "        return\n",
    "    def waitTime(self):\n",
    "        return np.round((self.startTime - self.arrivalTime), precision)\n",
    "    def TAT(self):\n",
    "        return np.round((self.endTime - self.arrivalTime), precision)\n",
    "    def weightedTAT(self):\n",
    "        return np.round((self.endTime - self.arrivalTime)/self.burstTime, precision)\n",
    "    def printProcess(self):\n",
    "        print(\"PNumber: \" + str(self.processNumber) + \", Arrival: \" + str(self.arrivalTime) + \", Burst: \" \\\n",
    "             + str(self.burstTime) + \", Priority: \" + str(self.priority))\n",
    "    def writeStats(self,f):\n",
    "        f.write(\"Process #\" + str(self.processNumber) + \" wait time = \" + str(self.waitTime()) + \\\n",
    "              \" TAT = \" + str(self.TAT()) + \" weighted TAT = \" +  str(self.weightedTAT()) + \" arrived at: \" + \\\n",
    "              str(self.arrivalTime) +\" started at: \" + str(np.round(self.startTime, precision)) + \" ended at: \" \\\n",
    "                + str(np.round(self.endTime, precision)) +'\\n')\n",
    "        "
   ]
  },
  {
   "cell_type": "code",
   "execution_count": 105,
   "metadata": {},
   "outputs": [],
   "source": [
    "## Take input from the file in an array of process\n",
    "inputFile = open(\"SecOutput.txt\",'r')\n",
    "processArray = []\n",
    "\n",
    "for line in inputFile:\n",
    "    line = line.split(\" \")\n",
    "    if len(line) == 1 : \n",
    "        continue\n",
    "    temp = Process(int(line[0]),float(line[1]),float(line[2]),int(line[3])\n",
    "    processArray.append(temp)\n",
    "\n",
    "inputFile.close()"
   ]
  },
  {
   "cell_type": "code",
   "execution_count": 106,
   "metadata": {
    "scrolled": true
   },
   "outputs": [
    {
     "name": "stdout",
     "output_type": "stream",
     "text": [
      "1 0.0 10.0 1\n",
      "\n",
      "4 2.0 3.0 1\n",
      "\n",
      "7 3.0 2.0 1\n",
      "\n",
      "8 5.0 1.0 1\n",
      "\n",
      "2 10.0 6.0 1\n",
      "\n",
      "5 13.0 2.0 1\n",
      "\n",
      "9 16.0 1.0 1\n",
      "3 22.0 4.0 1\n",
      "\n",
      "6 24.0 2.0 1\n",
      "\n"
     ]
    }
   ],
   "source": [
    "## Sort the Process on the time of arrival\n",
    "#processArray.sort(key = lambda process:process.arrivalTime)\n",
    "processArray = sorted(processArray, key=lambda process:float(process.arrivalTime))\n",
    "\n",
    "\n",
    "for i in processArray:\n",
    "    print(str(i.processNumber) + \" \" + str(i.arrivalTime) + \" \" + str(i.burstTime) + \" \" + str(i.priority) )"
   ]
  },
  {
   "cell_type": "code",
   "execution_count": 107,
   "metadata": {},
   "outputs": [],
   "source": [
    "q = Queue()\n",
    "processQ = Queue()\n",
    "for process in processArray:\n",
    "    processQ.enqueue(process)\n",
    "time = -0.1\n",
    "endTime = 0.0\n",
    "busy = False\n",
    "exit = False\n",
    "terminated = Queue()\n",
    "switchTime = 0.0\n",
    "while(True):\n",
    "    time = np.round(time + 0.1, precision)\n",
    "    if (exit or (terminated.size() == len(processArray))):\n",
    "        break\n",
    "    if not processQ.isEmpty():\n",
    "        if(processQ.front().arrivalTime <= time):\n",
    "            q.enqueue(processQ.dequeue())\n",
    "    if busy:\n",
    "        if time < endTime:\n",
    "            continue\n",
    "        else:\n",
    "            terminated.enqueue(curr_process)\n",
    "            busy = False\n",
    "    if q.isEmpty():\n",
    "        continue\n",
    "    elif q.front().arrivalTime <= time:\n",
    "        busy = True\n",
    "        curr_process = q.dequeue()\n",
    "        curr_process.startTime = time\n",
    "        curr_process.endTime = curr_process.startTime + curr_process.burstTime + switchTime\n",
    "        endTime = curr_process.endTime"
   ]
  },
  {
   "cell_type": "code",
   "execution_count": 108,
   "metadata": {},
   "outputs": [],
   "source": [
    "f = \"statsOsama.txt\"\n",
    "terminated.calculateStats(f)"
   ]
  },
  {
   "cell_type": "code",
   "execution_count": null,
   "metadata": {},
   "outputs": [],
   "source": []
  },
  {
   "cell_type": "code",
   "execution_count": 5,
   "metadata": {},
   "outputs": [],
   "source": [
    "def printProcessList(processArray):\n",
    "    for i in processArray:\n",
    "        print(str(i.processNumber) + \" \" + str(i.arrivalTime) + \" \" + str(i.burstTime) + \" \" + str(i.priority) )"
   ]
  },
  {
   "cell_type": "code",
   "execution_count": 6,
   "metadata": {},
   "outputs": [],
   "source": [
    "from heapq import heappush, heappop, heapify"
   ]
  },
  {
   "cell_type": "code",
   "execution_count": 7,
   "metadata": {},
   "outputs": [],
   "source": [
    "## Take input from the file in an array of process\n",
    "inputFile = open(\"Output.txt\",'r')\n",
    "processArray = []\n",
    "\n",
    "for line in inputFile:\n",
    "    line = line.split(\" \")\n",
    "    if len(line) == 1 : \n",
    "        continue\n",
    "    temp = Process(int(line[0]),float(line[1]),float(line[2]),int(line[3]))\n",
    "    processArray.append(temp)\n",
    "\n",
    "inputFile.close()"
   ]
  },
  {
   "cell_type": "code",
   "execution_count": 8,
   "metadata": {
    "scrolled": true
   },
   "outputs": [
    {
     "name": "stdout",
     "output_type": "stream",
     "text": [
      "7 1.55 19.59 4\n",
      "2 2.18 1.07 13\n",
      "3 3.13 7.18 5\n",
      "10 3.93 9.91 13\n",
      "8 6.15 8.03 11\n",
      "6 6.38 20.67 9\n",
      "5 6.82 15.91 10\n",
      "4 9.39 12.52 12\n",
      "9 12.55 5.79 7\n",
      "1 22.31 19.62 14\n"
     ]
    }
   ],
   "source": [
    "## Sort the Process on the time of arrival\n",
    "#processArray.sort(key = lambda process:process.arrivalTime)\n",
    "processArray = sorted(processArray, key=lambda process:float(process.arrivalTime))\n",
    "\n",
    "printProcessList(processArray)"
   ]
  },
  {
   "cell_type": "code",
   "execution_count": 9,
   "metadata": {},
   "outputs": [
    {
     "name": "stdout",
     "output_type": "stream",
     "text": [
      "Inserted at: 1.6\n",
      "Inserted at: 2.2\n",
      "Inserted at: 3.2\n",
      "Inserted at: 4.0\n",
      "Inserted at: 6.2\n",
      "Inserted at: 6.4\n",
      "Inserted at: 6.9\n",
      "Inserted at: 9.4\n",
      "Inserted at: 12.6\n",
      "Finished at: 21.2\n",
      "Finished at: 22.3\n",
      "Inserted at: 22.4\n",
      "Finished at: 32.3\n",
      "Finished at: 52.0\n",
      "Finished at: 64.6\n",
      "Finished at: 72.7\n",
      "Finished at: 88.7\n",
      "Finished at: 109.4\n",
      "Finished at: 115.2\n",
      "Finished at: 122.4\n"
     ]
    }
   ],
   "source": [
    "process_num = len(processArray)\n",
    "processQ = Queue()\n",
    "for process in processArray:\n",
    "    processQ.enqueue(process)\n",
    "heap = []\n",
    "time = -0.1\n",
    "endTime = 0.0\n",
    "busy = False\n",
    "exit = False\n",
    "terminated = Queue()\n",
    "switchTime = 0.0\n",
    "while(True):\n",
    "    #printProcessList(heap)\n",
    "    #print(\"-----------------------------------------------\")\n",
    "    time = np.round(time + 0.1, precision)\n",
    "    if (exit or (terminated.size() == process_num)):\n",
    "        break\n",
    "    if not processQ.isEmpty():\n",
    "        if(processQ.front().arrivalTime <= time):\n",
    "            print(\"Inserted at: \" + str(time))\n",
    "            heappush(heap, processQ.dequeue())\n",
    "    if busy:\n",
    "        if time < endTime:\n",
    "            continue\n",
    "        else:\n",
    "            print(\"Finished at: \" + str(time))\n",
    "            terminated.enqueue(curr_process)\n",
    "            busy = False\n",
    "    if len(heap) == 0:\n",
    "        continue\n",
    "    elif heap[0].arrivalTime <= time:\n",
    "        busy = True\n",
    "        curr_process = heappop(heap)\n",
    "        curr_process.startTime = time\n",
    "        curr_process.endTime = curr_process.startTime + curr_process.burstTime + switchTime\n",
    "        endTime = curr_process.endTime"
   ]
  },
  {
   "cell_type": "code",
   "execution_count": 10,
   "metadata": {},
   "outputs": [],
   "source": [
    "f = \"statsHPFSOsama.txt\"\n",
    "terminated.calculateStats(f)"
   ]
  },
  {
   "cell_type": "code",
   "execution_count": 11,
   "metadata": {},
   "outputs": [
    {
     "name": "stdout",
     "output_type": "stream",
     "text": [
      "PNumber: 7, Arrival: 1.55, Burst: 19.59, Priority: 4\n",
      "PNumber: 2, Arrival: 2.18, Burst: 1.07, Priority: 13\n",
      "PNumber: 10, Arrival: 3.93, Burst: 9.91, Priority: 13\n",
      "PNumber: 1, Arrival: 22.31, Burst: 19.62, Priority: 14\n",
      "PNumber: 4, Arrival: 9.39, Burst: 12.52, Priority: 12\n",
      "PNumber: 8, Arrival: 6.15, Burst: 8.03, Priority: 11\n",
      "PNumber: 5, Arrival: 6.82, Burst: 15.91, Priority: 10\n",
      "PNumber: 6, Arrival: 6.38, Burst: 20.67, Priority: 9\n",
      "PNumber: 9, Arrival: 12.55, Burst: 5.79, Priority: 7\n",
      "PNumber: 3, Arrival: 3.13, Burst: 7.18, Priority: 5\n"
     ]
    }
   ],
   "source": [
    "terminated.printQueue()"
   ]
  },
  {
   "cell_type": "code",
   "execution_count": 12,
   "metadata": {},
   "outputs": [
    {
     "name": "stdout",
     "output_type": "stream",
     "text": [
      "3.6.5 |Anaconda, Inc.| (default, Mar 29 2018, 13:32:41) [MSC v.1900 64 bit (AMD64)]\n"
     ]
    }
   ],
   "source": [
    "import sys\n",
    "print(sys.version)"
   ]
  },
  {
   "cell_type": "code",
   "execution_count": null,
   "metadata": {},
   "outputs": [],
   "source": []
  }
 ],
 "metadata": {
  "kernelspec": {
   "display_name": "Python 3",
   "language": "python",
   "name": "python3"
  },
  "language_info": {
   "codemirror_mode": {
    "name": "ipython",
    "version": 3
   },
   "file_extension": ".py",
   "mimetype": "text/x-python",
   "name": "python",
   "nbconvert_exporter": "python",
   "pygments_lexer": "ipython3",
   "version": "3.6.5"
  }
 },
 "nbformat": 4,
 "nbformat_minor": 2
}
