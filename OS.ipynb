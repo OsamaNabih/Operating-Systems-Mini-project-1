{
 "cells": [
  {
   "cell_type": "code",
   "execution_count": 222,
   "metadata": {},
   "outputs": [],
   "source": [
    "import matplotlib as plt\n",
    "import numpy as np "
   ]
  },
  {
   "cell_type": "code",
   "execution_count": 223,
   "metadata": {},
   "outputs": [],
   "source": [
    "precision = 2"
   ]
  },
  {
   "cell_type": "code",
   "execution_count": 243,
   "metadata": {},
   "outputs": [],
   "source": [
    "class Queue:\n",
    "    def __init__(self):\n",
    "        self.items = []\n",
    "\n",
    "    def isEmpty(self):\n",
    "        return len(self.items) == 0\n",
    "\n",
    "    def enqueue(self, item):\n",
    "        self.items.append(item)\n",
    "\n",
    "    def dequeue(self):\n",
    "        if(self.isEmpty()):\n",
    "            print(\"unable to dequeue\")\n",
    "            return None\n",
    "        node = self.items[0]\n",
    "        del self.items[0]\n",
    "        return node\n",
    "    def prioritySort(self):\n",
    "        self.items = sorted(self.items, key=lambda process:(-process.priority, process.processNumber))\n",
    "    def size(self):\n",
    "        return len(self.items)\n",
    "    \n",
    "    def front(self):\n",
    "        if(self.isEmpty()):\n",
    "            return None\n",
    "        return self.items[0]\n",
    "    def printQueue(self):\n",
    "        for item in self.items:\n",
    "            item.printProcess()\n",
    "    def calculateStats(self,outputFile):\n",
    "        averageTAT = 0 \n",
    "        weightedAverageTAT = 0\n",
    "        f = open(outputFile,'w')\n",
    "        for item in self.items:\n",
    "            item.writeStats(f)\n",
    "            averageTAT += item.TAT()\n",
    "            weightedAverageTAT += item.weightedTAT()\n",
    "        averageTAT /= self.size()\n",
    "        weightedAverageTAT /= self.size()\n",
    "        f.write(\"\\naverage TAT = \" + str(np.round(averageTAT, precision)) + \"\\nweightedAverageTAT = \" \\\n",
    "                + str(np.round(weightedAverageTAT, precision)))\n",
    "        f.close()\n",
    "        "
   ]
  },
  {
   "cell_type": "code",
   "execution_count": 225,
   "metadata": {},
   "outputs": [],
   "source": [
    "class Process:\n",
    "    def __init__(self,processNumber,arrivalTime,burstTime,priority):\n",
    "        self.processNumber = processNumber\n",
    "        self.arrivalTime = arrivalTime\n",
    "        self.burstTime = burstTime\n",
    "        self.priority = priority\n",
    "        \n",
    "    def endTime (self,endTime):\n",
    "        self.endTime = endTime\n",
    "        return\n",
    "    def startTime(self,startTime):\n",
    "        self.startTime = startTime\n",
    "        return\n",
    "    def waitTime(self):\n",
    "        return np.round((self.startTime - self.arrivalTime), precision)\n",
    "    def TAT(self):\n",
    "        return np.round((self.endTime - self.arrivalTime), precision)\n",
    "    def weightedTAT(self):\n",
    "        return np.round((self.endTime - self.arrivalTime)/self.burstTime, precision)\n",
    "    def printProcess(self):\n",
    "        print(\"PNumber: \" + str(self.processNumber) + \", Arrival: \" + str(self.arrivalTime) + \", Burst: \" \\\n",
    "             + str(self.burstTime) + \", Priority: \" + str(self.priority))\n",
    "    def writeStats(self,f):\n",
    "        f.write(\"Process #\" + str(self.processNumber) + \" wait time = \" + str(self.waitTime()) + \\\n",
    "              \" TAT = \" + str(self.TAT()) + \" weighted TAT = \" +  str(self.weightedTAT()) + \\\n",
    "              \" started at: \" + str(np.round(self.startTime)) + \" ended at: \" + str(np.round(self.endTime)) +'\\n')\n",
    "        "
   ]
  },
  {
   "cell_type": "code",
   "execution_count": 226,
   "metadata": {},
   "outputs": [],
   "source": [
    "## Take input from the file in an array of process\n",
    "inputFile = open(\"Output.txt\",'r')\n",
    "processArray = []\n",
    "\n",
    "for line in inputFile:\n",
    "    line = line.split(\" \")\n",
    "    if len(line) == 1 : \n",
    "        continue\n",
    "    temp = Process(int(line[0]),float(line[1]),float(line[2]),int(line[3]))\n",
    "    processArray.append(temp)\n",
    "\n",
    "inputFile.close()"
   ]
  },
  {
   "cell_type": "code",
   "execution_count": 227,
   "metadata": {},
   "outputs": [],
   "source": [
    "## Sort the Process on the time of arrival\n",
    "#processArray.sort(key = lambda process:process.arrivalTime)\n",
    "processArray = sorted(processArray, key=lambda process:process.arrivalTime)"
   ]
  },
  {
   "cell_type": "code",
   "execution_count": 198,
   "metadata": {
    "collapsed": true
   },
   "outputs": [
    {
     "name": "stdout",
     "output_type": "stream",
     "text": [
      "5 3.04 10.75 13\n",
      "8 5.46 1.66 14\n",
      "7 6.83 3.73 9\n",
      "10 7.43 9.72 12\n",
      "2 8.86 8.3 5\n",
      "6 9.76 8.13 13\n",
      "3 14.0 12.82 10\n",
      "4 20.98 20.46 11\n",
      "9 27.63 16.95 11\n",
      "1 33.33 23.27 13\n"
     ]
    }
   ],
   "source": [
    "for i in processArray:\n",
    "    print(str(i.processNumber) + \" \" + str(i.arrivalTime) + \" \" + str(i.burstTime) + \" \" + str(i.priority) )"
   ]
  },
  {
   "cell_type": "code",
   "execution_count": 228,
   "metadata": {},
   "outputs": [
    {
     "data": {
      "text/plain": [
       "'\\nwhile(not outqueue.isEmpty()):\\n    outqueue.printQueue()\\n    outqueue.dequeue()\\n'"
      ]
     },
     "execution_count": 228,
     "metadata": {},
     "output_type": "execute_result"
    }
   ],
   "source": [
    "queue = Queue()\n",
    "outqueue = Queue()\n",
    "exit = False\n",
    "time = 0.0 \n",
    "endTime = 0\n",
    "contextTime = 0.0\n",
    "size = len(processArray)\n",
    "while(True):\n",
    "    if(exit or (len(processArray) == 0 and outqueue.size() == size)):\n",
    "        break\n",
    "    if(len(processArray) > 0):\n",
    "        if(time >= float(processArray[0].arrivalTime)):\n",
    "            queue.enqueue(processArray[0])\n",
    "            del processArray[0]\n",
    "    if(not queue.isEmpty()):\n",
    "        if(time >= float(queue.front().arrivalTime) and time >= endTime):     \n",
    "            process = queue.dequeue()\n",
    "            outqueue.enqueue(process)\n",
    "            process.startTime = time + contextTime\n",
    "            endTime = process.startTime + process.burstTime\n",
    "            process.endTime = endTime\n",
    "   \n",
    "    time += 0.1\n",
    "    \n",
    "'''\n",
    "while(not outqueue.isEmpty()):\n",
    "    outqueue.printQueue()\n",
    "    outqueue.dequeue()\n",
    "'''"
   ]
  },
  {
   "cell_type": "code",
   "execution_count": 229,
   "metadata": {},
   "outputs": [],
   "source": [
    "f = \"statsFCFS.txt\"\n",
    "outqueue.calculateStats(f)"
   ]
  },
  {
   "cell_type": "code",
   "execution_count": null,
   "metadata": {},
   "outputs": [],
   "source": []
  },
  {
   "cell_type": "code",
   "execution_count": null,
   "metadata": {},
   "outputs": [],
   "source": []
  },
  {
   "cell_type": "code",
   "execution_count": 246,
   "metadata": {},
   "outputs": [],
   "source": [
    "## Take input from the file in an array of process\n",
    "inputFile = open(\"Output.txt\",'r')\n",
    "processArray = []\n",
    "\n",
    "for line in inputFile:\n",
    "    line = line.split(\" \")\n",
    "    if len(line) == 1 : \n",
    "        continue\n",
    "    temp = Process(int(line[0]),float(line[1]),float(line[2]),int(line[3]))\n",
    "    processArray.append(temp)\n",
    "\n",
    "inputFile.close()"
   ]
  },
  {
   "cell_type": "code",
   "execution_count": 247,
   "metadata": {},
   "outputs": [],
   "source": [
    "processArray = sorted(processArray, key=lambda process:process.arrivalTime)"
   ]
  },
  {
   "cell_type": "code",
   "execution_count": 248,
   "metadata": {},
   "outputs": [
    {
     "name": "stdout",
     "output_type": "stream",
     "text": [
      "5 3.04 10.75 13\n",
      "8 5.46 1.66 14\n",
      "7 6.83 3.73 9\n",
      "10 7.43 9.72 12\n",
      "2 8.86 8.3 5\n",
      "6 9.76 8.13 13\n",
      "3 14.0 12.82 10\n",
      "4 20.98 20.46 11\n",
      "9 27.63 16.95 11\n",
      "1 33.33 23.27 13\n"
     ]
    }
   ],
   "source": [
    "for i in processArray:\n",
    "    print(str(i.processNumber) + \" \" + str(i.arrivalTime) + \" \" + str(i.burstTime) + \" \" + str(i.priority) )"
   ]
  },
  {
   "cell_type": "code",
   "execution_count": 249,
   "metadata": {},
   "outputs": [],
   "source": [
    "queue = Queue()\n",
    "outqueue = Queue()\n",
    "exit = False\n",
    "time = 0.0 \n",
    "endTime = 0\n",
    "contextTime = 0.0\n",
    "size = len(processArray)\n",
    "while(True):\n",
    "    if(exit or (len(processArray) == 0 and outqueue.size() == size)):\n",
    "        break\n",
    "    if(len(processArray) > 0):\n",
    "        if(time >= float(processArray[0].arrivalTime)):\n",
    "            queue.enqueue(processArray[0])\n",
    "            queue.prioritySort()\n",
    "            del processArray[0]\n",
    "    if(not queue.isEmpty()):\n",
    "        if(time >= float(queue.front().arrivalTime) and time >= endTime):     \n",
    "            process = queue.dequeue()\n",
    "            outqueue.enqueue(process)\n",
    "            process.startTime = time + contextTime\n",
    "            endTime = process.startTime + process.burstTime\n",
    "            process.endTime = endTime\n",
    "   \n",
    "    time += 0.1"
   ]
  },
  {
   "cell_type": "code",
   "execution_count": 250,
   "metadata": {},
   "outputs": [],
   "source": [
    "f = \"statsHPFS.txt\"\n",
    "outqueue.calculateStats(f)"
   ]
  },
  {
   "cell_type": "code",
   "execution_count": null,
   "metadata": {},
   "outputs": [],
   "source": []
  },
  {
   "cell_type": "code",
   "execution_count": null,
   "metadata": {},
   "outputs": [],
   "source": []
  },
  {
   "cell_type": "code",
   "execution_count": null,
   "metadata": {},
   "outputs": [],
   "source": []
  },
  {
   "cell_type": "code",
   "execution_count": null,
   "metadata": {},
   "outputs": [],
   "source": []
  },
  {
   "cell_type": "code",
   "execution_count": null,
   "metadata": {},
   "outputs": [],
   "source": []
  }
 ],
 "metadata": {
  "kernelspec": {
   "display_name": "Python 3",
   "language": "python",
   "name": "python3"
  },
  "language_info": {
   "codemirror_mode": {
    "name": "ipython",
    "version": 3
   },
   "file_extension": ".py",
   "mimetype": "text/x-python",
   "name": "python",
   "nbconvert_exporter": "python",
   "pygments_lexer": "ipython3",
   "version": "3.6.5"
  }
 },
 "nbformat": 4,
 "nbformat_minor": 2
}
