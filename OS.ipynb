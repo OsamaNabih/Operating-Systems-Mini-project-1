{
 "cells": [
  {
   "cell_type": "code",
   "execution_count": 257,
   "metadata": {},
   "outputs": [],
   "source": [
    "import matplotlib as plt\n",
    "import numpy as np "
   ]
  },
  {
   "cell_type": "code",
   "execution_count": 258,
   "metadata": {},
   "outputs": [],
   "source": [
    "class Queue:\n",
    "    def __init__(self):\n",
    "        self.items = []\n",
    "\n",
    "    def isEmpty(self):\n",
    "        return len(self.items) == 0\n",
    "\n",
    "    def enqueue(self, item):\n",
    "        self.items.append(item)\n",
    "\n",
    "    def dequeue(self):\n",
    "        if(self.isEmpty()):\n",
    "            print(\"unable to dequeue\")\n",
    "            return None\n",
    "        node = self.items[0]\n",
    "        del self.items[0]\n",
    "        return node\n",
    "\n",
    "    def size(self):\n",
    "        return len(self.items)\n",
    "    \n",
    "    def front(self):\n",
    "        if(self.isEmpty()):\n",
    "            return None\n",
    "        return self.items[0]\n",
    "    def printQueue(self):\n",
    "        for item in self.items:\n",
    "            item.printProcess()"
   ]
  },
  {
   "cell_type": "code",
   "execution_count": 259,
   "metadata": {},
   "outputs": [],
   "source": [
    "class process:\n",
    "    def __init__(self,processNumber,arrivalTime,burstTime,priority):\n",
    "        self.processNumber = processNumber\n",
    "        self.arrivalTime = arrivalTime\n",
    "        self.burstTime = burstTime\n",
    "        self.priority = priority\n",
    "        \n",
    "    def endTime (self,endTime):\n",
    "        self.endTime = endTime\n",
    "        return\n",
    "    def startTime(self,startTime):\n",
    "        self.startTime = startTime\n",
    "        return\n",
    "    def printProcess(self):\n",
    "        print(\"PNumber: \" + str(self.processNumber) + \", Arrival: \" + str(self.arrivalTime) + \", Burst: \" \\\n",
    "             + str(self.burstTime) + \", Priority: \" + str(self.priority))"
   ]
  },
  {
   "cell_type": "code",
   "execution_count": 260,
   "metadata": {},
   "outputs": [
    {
     "name": "stdout",
     "output_type": "stream",
     "text": [
      "PNumber: 1, Arrival: 2.5, Burst: 3.2, Priority: 4\n",
      "PNumber: 2, Arrival: 2.7, Burst: 5.4, Priority: 3\n",
      "PNumber: 2, Arrival: 2.7, Burst: 5.4, Priority: 3\n"
     ]
    }
   ],
   "source": [
    "p1 = process(1, 2.5, 3.2, 4)\n",
    "p2 = process(2, 2.7, 5.4, 3)\n",
    "ls = [p1, p2]\n",
    "q = Queue()\n",
    "q.enqueue(p1)\n",
    "q.enqueue(p2)\n",
    "q.printQueue()\n",
    "q.dequeue()\n",
    "q.printQueue()"
   ]
  },
  {
   "cell_type": "code",
   "execution_count": 261,
   "metadata": {},
   "outputs": [],
   "source": [
    "## Take input from the file in an array of process\n",
    "inputFile = open(\"Output.txt\",'r')\n",
    "processArray = []\n",
    "\n",
    "for line in inputFile:\n",
    "    line = line.split(\" \")\n",
    "    if len(line) == 1 : \n",
    "        continue\n",
    "    temp = process(line[0],float(line[1]),float(line[2]),line[3])\n",
    "    processArray.append(temp)\n",
    "\n",
    "inputFile.close()"
   ]
  },
  {
   "cell_type": "code",
   "execution_count": 262,
   "metadata": {},
   "outputs": [
    {
     "name": "stdout",
     "output_type": "stream",
     "text": [
      "1 0.78 8.13 5\n",
      "\n",
      "2 20.56 12.56 7\n",
      "\n",
      "3 34.21 15.31 1\n",
      "\n",
      "4 21.9 11.91 3\n",
      "\n",
      "5 4.16 1.8 2\n",
      "\n",
      "6 15.94 17.33 6\n",
      "\n",
      "7 1.42 8.7 9\n",
      "\n",
      "8 8.74 7.49 10\n",
      "\n",
      "9 10.23 13.85 8\n",
      "\n",
      "10 11.53 20.74 4\n",
      "\n"
     ]
    }
   ],
   "source": [
    "for i in processArray:\n",
    "    print(str(i.processNumber) + \" \" + str(i.arrivalTime) + \" \" + str(i.burstTime) + \" \" + str(i.priority) )"
   ]
  },
  {
   "cell_type": "code",
   "execution_count": 263,
   "metadata": {
    "scrolled": true
   },
   "outputs": [
    {
     "name": "stdout",
     "output_type": "stream",
     "text": [
      "1 0.78 8.13 5\n",
      "\n",
      "7 1.42 8.7 9\n",
      "\n",
      "5 4.16 1.8 2\n",
      "\n",
      "8 8.74 7.49 10\n",
      "\n",
      "9 10.23 13.85 8\n",
      "\n",
      "10 11.53 20.74 4\n",
      "\n",
      "6 15.94 17.33 6\n",
      "\n",
      "2 20.56 12.56 7\n",
      "\n",
      "4 21.9 11.91 3\n",
      "\n",
      "3 34.21 15.31 1\n",
      "\n"
     ]
    }
   ],
   "source": [
    "## Sort the Process on the time of arrival\n",
    "#processArray.sort(key = lambda process:process.arrivalTime)\n",
    "processArray = sorted(processArray, key=lambda process:float(process.arrivalTime))\n",
    "\n",
    "\n",
    "for i in processArray:\n",
    "    print(str(i.processNumber) + \" \" + str(i.arrivalTime) + \" \" + str(i.burstTime) + \" \" + str(i.priority) )"
   ]
  },
  {
   "cell_type": "code",
   "execution_count": 264,
   "metadata": {},
   "outputs": [
    {
     "name": "stdout",
     "output_type": "stream",
     "text": [
      "10\n"
     ]
    }
   ],
   "source": [
    "print(len(processArray))"
   ]
  },
  {
   "cell_type": "code",
   "execution_count": 265,
   "metadata": {},
   "outputs": [
    {
     "name": "stdout",
     "output_type": "stream",
     "text": [
      "0\n",
      "-------------------------------------------------\n",
      "0\n",
      "-------------------------------------------------\n",
      "0\n",
      "-------------------------------------------------\n",
      "0\n",
      "-------------------------------------------------\n",
      "0\n",
      "-------------------------------------------------\n",
      "0\n",
      "-------------------------------------------------\n",
      "0\n",
      "-------------------------------------------------\n",
      "0\n",
      "-------------------------------------------------\n",
      "0\n",
      "-------------------------------------------------\n",
      "0\n",
      "PNumber: 1, Arrival: 0.78, Burst: 8.13, Priority: 5\n",
      "\n",
      "-------------------------------------------------\n"
     ]
    },
    {
     "data": {
      "text/plain": [
       "'\\nwhile(not outqueue.isEmpty()):\\n    outqueue.printQueue()\\n    outqueue.dequeue()\\n'"
      ]
     },
     "execution_count": 265,
     "metadata": {},
     "output_type": "execute_result"
    }
   ],
   "source": [
    "queue = Queue()\n",
    "outqueue = Queue()\n",
    "exit = False\n",
    "time = 0.0 \n",
    "counter = 0\n",
    "endTime = 0\n",
    "contextTime = 0.5\n",
    "while(True):\n",
    "    print(counter)\n",
    "    queue.printQueue()\n",
    "    print(\"-------------------------------------------------\")\n",
    "   # for item in processArray:\n",
    "   #     item.printProcess()\n",
    "    if(exit or time >= endTime):\n",
    "        break\n",
    "    if(not queue.isEmpty()):\n",
    "        if(time >= float(queue.front().arrivalTime) and time >= endTime):     \n",
    "            process = queue.dequeue()\n",
    "            outqueue.enqueue(process)\n",
    "            process.startTime = time + contextTime\n",
    "            endTime = process.startTime + process.burstTime\n",
    "            process.endTime = endTime\n",
    "    if(time >= float(processArray[counter].arrivalTime)):\n",
    "        queue.enqueue(processArray[counter])\n",
    "        del processArray[counter]\n",
    "    time += 0.1\n",
    "    \n",
    "'''\n",
    "while(not outqueue.isEmpty()):\n",
    "    outqueue.printQueue()\n",
    "    outqueue.dequeue()\n",
    "'''"
   ]
  },
  {
   "cell_type": "code",
   "execution_count": null,
   "metadata": {},
   "outputs": [],
   "source": []
  },
  {
   "cell_type": "code",
   "execution_count": null,
   "metadata": {},
   "outputs": [],
   "source": []
  }
 ],
 "metadata": {
  "kernelspec": {
   "display_name": "Python 3",
   "language": "python",
   "name": "python3"
  },
  "language_info": {
   "codemirror_mode": {
    "name": "ipython",
    "version": 3
   },
   "file_extension": ".py",
   "mimetype": "text/x-python",
   "name": "python",
   "nbconvert_exporter": "python",
   "pygments_lexer": "ipython3",
   "version": "3.6.6"
  }
 },
 "nbformat": 4,
 "nbformat_minor": 2
}
