{
 "cells": [
  {
   "cell_type": "code",
   "execution_count": 1,
   "metadata": {},
   "outputs": [],
   "source": [
    "import numpy as np\n",
    "import matplotlib as plt\n",
    "from tkinter import *\n",
    "root = Tk()\n",
    "root.geometry(\"500x300\")\n",
    "theLabel = Label(root, text=\"Input File Name:\", bg='yellow', fg='pink')\n",
    "#theLabel.pack(fill=X)\n",
    "\n",
    "\n",
    "'''\n",
    "topFrame = Frame(root)\n",
    "topFrame.pack()\n",
    "bottomFrame = Frame(root)\n",
    "bottomFrame.pack(side=BOTTOM)\n",
    "'''\n",
    "def readInput():\n",
    "    file_name = inputEntry.get()\n",
    "    nums = []\n",
    "    with open(file_name) as f:\n",
    "        for line in f:\n",
    "            arr = line.split()\n",
    "            nums.append(arr)\n",
    "        f.close()\n",
    "    process_num = int(nums[0][0])\n",
    "    mu1 = float(nums[1][0])\n",
    "    sigma1 = float(nums[1][0])\n",
    "    mu2 = float(nums[2][0])\n",
    "    sigma2 = float(nums[2][1])\n",
    "    my_lambda = float(nums[3][0])\n",
    "    arrivals = np.random.normal(loc=mu1, scale=sigma1, size=process_num)\n",
    "    bursts = np.random.normal(loc=mu2, scale=sigma2, size=process_num)\n",
    "    priorities = np.random.poisson(lam=my_lambda, size=process_num)\n",
    "    arrivals = np.around(arrivals, 2)\n",
    "    bursts = np.around(bursts, 2)\n",
    "    priorities = np.around(priorities, 2)\n",
    "    f = open(\"Output.txt\", \"w\")\n",
    "    f.write(str(process_num) + \"\\n\")\n",
    "    for i in range(process_num):\n",
    "        f.write(str(i+1) + \" \" + str(arrivals[i]) + \" \" + str(bursts[i]) + \" \" + str(priorities[i]) + \"\\n\")\n",
    "\n",
    "inputFile = Button(text=\"Submit file name\", fg='red', command= readInput)\n",
    "schedule = Button(text=\"Submit scheduling method\", fg='green')\n",
    "inputEntry = Entry(root)\n",
    "theLabel.grid(row=4, column=2)\n",
    "inputEntry.grid(row=4, column=3)\n",
    "inputFile.grid(row=5, column=2, columnspan=2)\n",
    "#inputFile.pack(side=LEFT)\n",
    "#schedule.pack(side=RIGHT)\n",
    "\n",
    "\n",
    "\n",
    "root.mainloop()"
   ]
  },
  {
   "cell_type": "code",
   "execution_count": null,
   "metadata": {},
   "outputs": [],
   "source": []
  }
 ],
 "metadata": {
  "kernelspec": {
   "display_name": "Python 3",
   "language": "python",
   "name": "python3"
  },
  "language_info": {
   "codemirror_mode": {
    "name": "ipython",
    "version": 3
   },
   "file_extension": ".py",
   "mimetype": "text/x-python",
   "name": "python",
   "nbconvert_exporter": "python",
   "pygments_lexer": "ipython3",
   "version": "3.6.6"
  }
 },
 "nbformat": 4,
 "nbformat_minor": 2
}
